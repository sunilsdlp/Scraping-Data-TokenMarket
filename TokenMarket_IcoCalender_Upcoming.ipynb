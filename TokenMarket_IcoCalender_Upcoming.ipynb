{
 "cells": [
  {
   "cell_type": "code",
   "execution_count": 47,
   "metadata": {},
   "outputs": [],
   "source": [
    "'''\n",
    "Author:Sunil Kumar\n",
    "This Code scraps the Details(ICO Name,Start_Date) from TokenMarket.net\n",
    "'''\n",
    "import requests\n",
    "from bs4 import BeautifulSoup\n",
    "import pandas as pd\n",
    "page=requests.get('https://tokenmarket.net/ico-calendar/upcoming')\n",
    "soup=BeautifulSoup(page.content,'lxml')\n",
    "tabl=soup.find('tbody')\n",
    "icos=[]\n",
    "st=[]\n",
    "for i in list(tabl.find_all('tr')):\n",
    "    icos.append((i.find('td',class_='col-asset-name vertical-middle').text.strip()))\n",
    "ed=[]\n",
    "for i in list(tabl.find_all('tr')):\n",
    "    ed.append((i.find_all('p')))\n",
    "for i in range(len(ed)):\n",
    "    try:\n",
    "        st.append((ed[i][0].text.strip()))\n",
    "    except IndexError:\n",
    "        st.append('To be announced')\n",
    "df=pd.DataFrame()\n",
    "df[\"Name\"], df[\"start\"]= icos, st"
   ]
  }
 ],
 "metadata": {
  "kernelspec": {
   "display_name": "Python 3",
   "language": "python",
   "name": "python3"
  },
  "language_info": {
   "codemirror_mode": {
    "name": "ipython",
    "version": 3
   },
   "file_extension": ".py",
   "mimetype": "text/x-python",
   "name": "python",
   "nbconvert_exporter": "python",
   "pygments_lexer": "ipython3",
   "version": "3.6.4"
  }
 },
 "nbformat": 4,
 "nbformat_minor": 2
}
